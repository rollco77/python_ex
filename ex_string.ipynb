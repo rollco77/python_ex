{
 "cells": [
  {
   "cell_type": "code",
   "execution_count": 12,
   "metadata": {},
   "outputs": [
    {
     "name": "stdout",
     "output_type": "stream",
     "text": [
      "##### 문자열표현 ######\n",
      "Hello Python\n",
      "\n",
      "이 사이에 엔터를 치면서\n",
      "막 이렇게 치시면 \n",
      "나중에 print()함수로 출력했을 때\n",
      "여러줄로 출력됩니다.\n",
      "\n",
      "##### 문자열 인덱싱 ######\n",
      "h\n",
      "n\n",
      "n\n",
      "o\n",
      "##### 문자열 슬라이싱 ######\n",
      "hello\n",
      " python\n",
      "python\n",
      "hello python\n",
      "##### 포맷팅 ######\n",
      "현재 시간은 오전 7시입니다\n",
      "\n"
     ]
    },
    {
     "data": {
      "text/plain": [
       "'현재 시간은 오전 7시입니다'"
      ]
     },
     "execution_count": 12,
     "metadata": {},
     "output_type": "execute_result"
    }
   ],
   "source": [
    "# 문자열 표현\n",
    "a = \"Hello Python\"\n",
    "b = \"\"\"\n",
    "이 사이에 엔터를 치면서\n",
    "막 이렇게 치시면 \n",
    "나중에 print()함수로 출력했을 때\n",
    "여러줄로 출력됩니다.\n",
    "\"\"\"\n",
    "\n",
    "a1 = \"Su's python\"\n",
    "a2 = 'Su\"s python'\n",
    "\n",
    "print(\"##### 문자열표현 ######\")\n",
    "print(a)\n",
    "print(b)\n",
    "\n",
    "# 문자열 인덱싱\n",
    "c = 'hello python'\n",
    "\n",
    "print(\"##### 문자열 인덱싱 ######\")\n",
    "print(c[0])\n",
    "print(c[11]) \n",
    "print(c[-1]) \n",
    "print(c[-2]) \n",
    "\n",
    "\n",
    "#문자열 슬라이싱\n",
    "d = 'hello python'\n",
    "print(\"##### 문자열 슬라이싱 ######\")\n",
    "print(d[0:5])\n",
    "print(d[5:12])\n",
    "print(d[6:])\n",
    "print(d[:])\n",
    "\n",
    "\n",
    "## %formating : 바뀌길 원하는 곳에 %s(문자열), %c(문자 1개), %d(정수), %f(실수) 를 넣어주고, 문자열이 끝난 후에 % + 원하는 숫자나 문자, 문자열을 붙여주는 방식\n",
    "print(\"##### % 포맷팅 ######\")\n",
    "print(\"현재 시간은 오전 %d시입니다\" %7) \n",
    "print(\"\")\n",
    "\"현재 시간은 %s %d시입니다\" %('오전',7)\n",
    "\"현재 시간은 %s %s시입니다\" %('오전',7)\n",
    "\n",
    "\n",
    "# format 함수 포맷팅\n",
    "\n",
    "\n",
    "print(\"##### 문자열표현 ######\")\n",
    "\n"
   ]
  },
  {
   "cell_type": "code",
   "execution_count": null,
   "metadata": {},
   "outputs": [],
   "source": []
  }
 ],
 "metadata": {
  "interpreter": {
   "hash": "aee8b7b246df8f9039afb4144a1f6fd8d2ca17a180786b69acc140d282b71a49"
  },
  "kernelspec": {
   "display_name": "Python 3.10.5 64-bit",
   "language": "python",
   "name": "python3"
  },
  "language_info": {
   "codemirror_mode": {
    "name": "ipython",
    "version": 3
   },
   "file_extension": ".py",
   "mimetype": "text/x-python",
   "name": "python",
   "nbconvert_exporter": "python",
   "pygments_lexer": "ipython3",
   "version": "3.10.5"
  },
  "orig_nbformat": 4
 },
 "nbformat": 4,
 "nbformat_minor": 2
}
