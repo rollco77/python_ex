{
 "cells": [
  {
   "cell_type": "code",
   "execution_count": 2,
   "metadata": {},
   "outputs": [
    {
     "ename": "ModuleNotFoundError",
     "evalue": "No module named 'requests'",
     "output_type": "error",
     "traceback": [
      "\u001b[0;31m---------------------------------------------------------------------------\u001b[0m",
      "\u001b[0;31mModuleNotFoundError\u001b[0m                       Traceback (most recent call last)",
      "\u001b[1;32m/Users/suhwan/work/pythonwork/python_project/exercise/web_crawler/ex_webcrawler1.ipynb Cell 1'\u001b[0m in \u001b[0;36m<cell line: 1>\u001b[0;34m()\u001b[0m\n\u001b[0;32m----> <a href='vscode-notebook-cell:/Users/suhwan/work/pythonwork/python_project/exercise/web_crawler/ex_webcrawler1.ipynb#ch0000000?line=0'>1</a>\u001b[0m \u001b[39mimport\u001b[39;00m \u001b[39mrequests\u001b[39;00m                \u001b[39m# requests 패키지 가져오기\u001b[39;00m\n\u001b[1;32m      <a href='vscode-notebook-cell:/Users/suhwan/work/pythonwork/python_project/exercise/web_crawler/ex_webcrawler1.ipynb#ch0000000?line=2'>3</a>\u001b[0m url \u001b[39m=\u001b[39m \u001b[39m'\u001b[39m\u001b[39mhttps://www.naver.com\u001b[39m\u001b[39m'\u001b[39m  \u001b[39m# 가져올 url 문자열로 입력\u001b[39;00m\n\u001b[1;32m      <a href='vscode-notebook-cell:/Users/suhwan/work/pythonwork/python_project/exercise/web_crawler/ex_webcrawler1.ipynb#ch0000000?line=4'>5</a>\u001b[0m response \u001b[39m=\u001b[39m requests\u001b[39m.\u001b[39mget(url)   \u001b[39m# requests의 get함수를 이용해 해당 url로 부터 html이 담긴 자료를 받아옴\u001b[39;00m\n",
      "\u001b[0;31mModuleNotFoundError\u001b[0m: No module named 'requests'"
     ]
    }
   ],
   "source": [
    "import requests                # requests 패키지 가져오기\n",
    "\n",
    "url = 'https://www.naver.com'  # 가져올 url 문자열로 입력\n",
    "\n",
    "response = requests.get(url)   # requests의 get함수를 이용해 해당 url로 부터 html이 담긴 자료를 받아옴\n",
    "\n",
    "print(response.status_code)    # 정상적으로 받아졌다면 200이라는 상태코드를 반환\n",
    "\n",
    "html_text = response.text      # 우리가 얻고자 하는 html 문서가 여기에 담기게 됨"
   ]
  }
 ],
 "metadata": {
  "interpreter": {
   "hash": "aee8b7b246df8f9039afb4144a1f6fd8d2ca17a180786b69acc140d282b71a49"
  },
  "kernelspec": {
   "display_name": "Python 3.10.5 64-bit",
   "language": "python",
   "name": "python3"
  },
  "language_info": {
   "codemirror_mode": {
    "name": "ipython",
    "version": 3
   },
   "file_extension": ".py",
   "mimetype": "text/x-python",
   "name": "python",
   "nbconvert_exporter": "python",
   "pygments_lexer": "ipython3",
   "version": "3.10.5"
  },
  "orig_nbformat": 4
 },
 "nbformat": 4,
 "nbformat_minor": 2
}
